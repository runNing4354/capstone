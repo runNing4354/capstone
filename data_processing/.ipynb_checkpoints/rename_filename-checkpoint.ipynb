{
 "cells": [
  {
   "cell_type": "code",
   "execution_count": null,
   "id": "a360bb7b-60b4-40fe-9dd1-cf590fe6d54f",
   "metadata": {},
   "outputs": [],
   "source": [
    "from string import ascii_lowercase\n",
    "from random import choice, randint, random\n",
    "import os\n",
    "\n",
    "\n",
    "\n",
    "def randomize_files(dir):\n",
    "    for f in os.listdir(dir):\n",
    "        path = os.path.join(dir, f)\n",
    "        if os.path.isfile(path):\n",
    "            ext = os.path.splittext(f)[1]\n",
    "            newname = os.path.join(dir, ''.join([choice(ascii_lowercase) for _ in range(randint(5,6))]))\n",
    "            newpath = newname + ext\n",
    "            os.rename(path,newpath)\n",
    "            print(\"rename {} to {}\".format(path, newpath))\n",
    "            \n"
   ]
  },
  {
   "cell_type": "code",
   "execution_count": null,
   "id": "b065620b-634f-4a2b-b00a-08000ce5d5e6",
   "metadata": {},
   "outputs": [],
   "source": [
    "directory = '폴더명'\n",
    "\n",
    "randomize_files(directory)"
   ]
  }
 ],
 "metadata": {
  "kernelspec": {
   "display_name": "Python 3 (ipykernel)",
   "language": "python",
   "name": "python3"
  },
  "language_info": {
   "codemirror_mode": {
    "name": "ipython",
    "version": 3
   },
   "file_extension": ".py",
   "mimetype": "text/x-python",
   "name": "python",
   "nbconvert_exporter": "python",
   "pygments_lexer": "ipython3",
   "version": "3.8.13"
  }
 },
 "nbformat": 4,
 "nbformat_minor": 5
}
