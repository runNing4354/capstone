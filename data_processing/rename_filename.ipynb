{
 "cells": [
  {
   "cell_type": "code",
   "execution_count": 19,
   "id": "a360bb7b-60b4-40fe-9dd1-cf590fe6d54f",
   "metadata": {},
   "outputs": [],
   "source": [
    "from string import ascii_lowercase\n",
    "from random import choice, randint, random\n",
    "import os\n",
    "\n",
    "\n",
    "\n",
    "def randomize_files(dir):\n",
    "    for f in os.listdir(dir):\n",
    "        path = os.path.join(dir, f)\n",
    "        if os.path.isfile(path):\n",
    "            ext = os.path.splitext(f)[1]\n",
    "            newname = os.path.join(dir, ''.join([choice(ascii_lowercase) for _ in range(randint(5,10))]))\n",
    "            newpath = newname + ext\n",
    "            os.rename(path,newpath)\n",
    "            \n",
    "            \n"
   ]
  },
  {
   "cell_type": "code",
   "execution_count": null,
   "id": "803d2db1-7fdf-408a-92c3-970424a7c9cf",
   "metadata": {},
   "outputs": [],
   "source": [
    "path = \"C:\\\\Users\\\\taemi\\\\capstone\\\\data\\\\1_default\\\\backup_data\\\\baby_cry\\\\abinhslgmd.wav\"\n",
    "\n",
    "ext = os.path.splitext(path)[1]\n",
    "filename = os.path.splitext(path)[0]\n",
    "\n",
    "ext"
   ]
  },
  {
   "cell_type": "code",
   "execution_count": null,
   "id": "b065620b-634f-4a2b-b00a-08000ce5d5e6",
   "metadata": {},
   "outputs": [],
   "source": [
    "directory = 'C:\\\\Users\\\\taemi\\\\capstone\\\\data\\\\1_default\\\\baby_cry'\n",
    "randomize_files(directory)"
   ]
  },
  {
   "cell_type": "code",
   "execution_count": null,
   "id": "42334e27-895d-494b-ae9e-15c1cb5a6d12",
   "metadata": {},
   "outputs": [],
   "source": [
    "directory = 'C:\\\\Users\\\\taemi\\\\capstone\\\\data\\\\1_default\\\\car_horn'\n",
    "randomize_files(directory)"
   ]
  },
  {
   "cell_type": "code",
   "execution_count": null,
   "id": "11a4aa12-3e8c-4529-93cd-c346ca57753c",
   "metadata": {},
   "outputs": [],
   "source": [
    "directory = 'C:\\\\Users\\\\taemi\\\\capstone\\\\data\\\\1_default\\\\dog_bark'\n",
    "randomize_files(directory)"
   ]
  },
  {
   "cell_type": "code",
   "execution_count": null,
   "id": "7a69b8ea-2aca-4fb9-a709-addbb965b9a7",
   "metadata": {},
   "outputs": [],
   "source": [
    "directory = 'C:\\\\Users\\\\taemi\\\\capstone\\\\data\\\\1_default\\\\door'\n",
    "randomize_files(directory)"
   ]
  },
  {
   "cell_type": "code",
   "execution_count": null,
   "id": "6357ffd3-104f-48fd-8448-91f1950c9e28",
   "metadata": {},
   "outputs": [],
   "source": [
    "directory = 'C:\\\\Users\\\\taemi\\\\capstone\\\\data\\\\1_default\\\\glass_break'\n",
    "randomize_files(directory)"
   ]
  },
  {
   "cell_type": "code",
   "execution_count": null,
   "id": "d31860ce-d30f-4175-831a-79426c843310",
   "metadata": {},
   "outputs": [],
   "source": [
    "directory = 'C:\\\\Users\\\\taemi\\\\capstone\\\\data\\\\1_default\\\\knock'\n",
    "randomize_files(directory)"
   ]
  },
  {
   "cell_type": "code",
   "execution_count": null,
   "id": "bf4b6d0b-3b31-44f8-b30b-3894caccbf01",
   "metadata": {},
   "outputs": [],
   "source": [
    "directory = 'C:\\\\Users\\\\taemi\\\\capstone\\\\data\\\\1_default\\\\meow'\n",
    "randomize_files(directory)"
   ]
  },
  {
   "cell_type": "code",
   "execution_count": null,
   "id": "8e2863e7-1f90-4d24-84cb-056cc081ec9e",
   "metadata": {},
   "outputs": [],
   "source": [
    "directory = 'C:\\\\Users\\\\taemi\\\\capstone\\\\data\\\\1_default\\\\phone_vibrate'\n",
    "randomize_files(directory)"
   ]
  },
  {
   "cell_type": "code",
   "execution_count": null,
   "id": "6a577178-b789-4aa7-a85c-e03a0735280a",
   "metadata": {},
   "outputs": [],
   "source": [
    "directory = 'C:\\\\Users\\\\taemi\\\\capstone\\\\data\\\\1_default\\\\scream'\n",
    "randomize_files(directory)"
   ]
  },
  {
   "cell_type": "code",
   "execution_count": null,
   "id": "761db022-ed36-4c2a-bc78-079f451af178",
   "metadata": {},
   "outputs": [],
   "source": [
    "directory = 'C:\\\\Users\\\\taemi\\\\capstone\\\\data\\\\1_default\\\\siren_all'\n",
    "randomize_files(directory)"
   ]
  },
  {
   "cell_type": "code",
   "execution_count": null,
   "id": "fba78233-9968-4406-aacb-3d123ff28d5e",
   "metadata": {},
   "outputs": [],
   "source": [
    "directory = 'C:\\\\Users\\\\taemi\\\\capstone\\\\data\\\\1_default\\\\door_bell_1'\n",
    "randomize_files(directory)"
   ]
  },
  {
   "cell_type": "code",
   "execution_count": null,
   "id": "44e87041-a5cc-44b5-a063-a1b2156402e1",
   "metadata": {},
   "outputs": [],
   "source": [
    "directory = 'C:\\\\Users\\\\taemi\\\\capstone\\\\data\\\\1_default\\\\door_bell_2'\n",
    "randomize_files(directory)"
   ]
  },
  {
   "cell_type": "code",
   "execution_count": null,
   "id": "40bf8c7a-4464-4c81-83d1-bdf40938aeb1",
   "metadata": {},
   "outputs": [],
   "source": [
    "#여기서 부터는 사이렌"
   ]
  },
  {
   "cell_type": "code",
   "execution_count": 15,
   "id": "25f5e608-2645-454a-98a0-0aba41d9fd9f",
   "metadata": {},
   "outputs": [],
   "source": [
    "directory = 'C:\\\\Users\\\\taemi\\\\capstone\\\\data\\\\2_siren\\\\burglar_alarm'\n",
    "randomize_files(directory)"
   ]
  },
  {
   "cell_type": "code",
   "execution_count": 16,
   "id": "be039b90-974a-4b4c-9c92-ab06888c9dfa",
   "metadata": {},
   "outputs": [],
   "source": [
    "directory = 'C:\\\\Users\\\\taemi\\\\capstone\\\\data\\\\2_siren\\\\emergency_alarm'\n",
    "randomize_files(directory)"
   ]
  },
  {
   "cell_type": "code",
   "execution_count": 17,
   "id": "1b9ca171-2f2b-43d6-b0cc-a230d8bad2f9",
   "metadata": {},
   "outputs": [],
   "source": [
    "directory = 'C:\\\\Users\\\\taemi\\\\capstone\\\\data\\\\2_siren\\\\fire_alarm'\n",
    "randomize_files(directory)"
   ]
  },
  {
   "cell_type": "code",
   "execution_count": 18,
   "id": "cdb4fac4-05bf-426d-9fc3-5d091aff0f81",
   "metadata": {},
   "outputs": [],
   "source": [
    "directory = 'C:\\\\Users\\\\taemi\\\\capstone\\\\data\\\\2_siren\\\\other'\n",
    "randomize_files(directory)"
   ]
  },
  {
   "cell_type": "code",
   "execution_count": null,
   "id": "c08ba5d2-0384-428f-9d78-3e071d59abff",
   "metadata": {},
   "outputs": [],
   "source": [
    "#여기서 부터는 아기울음소리"
   ]
  },
  {
   "cell_type": "code",
   "execution_count": 20,
   "id": "3d5d50d2-f4ac-45a9-9522-4c48f7d4524d",
   "metadata": {},
   "outputs": [],
   "source": [
    "directory = 'C:\\\\Users\\\\taemi\\\\capstone\\\\data\\\\3_babycry\\\\baby_cry'\n",
    "randomize_files(directory)"
   ]
  },
  {
   "cell_type": "code",
   "execution_count": 21,
   "id": "08d470b2-87f2-468d-86d8-8be83ce876de",
   "metadata": {},
   "outputs": [],
   "source": [
    "directory = 'C:\\\\Users\\\\taemi\\\\capstone\\\\data\\\\3_babycry\\\\other'\n",
    "randomize_files(directory)"
   ]
  },
  {
   "cell_type": "code",
   "execution_count": null,
   "id": "407b56fa-248d-4d3c-9cc7-0766581c4601",
   "metadata": {},
   "outputs": [],
   "source": []
  }
 ],
 "metadata": {
  "kernelspec": {
   "display_name": "Python 3 (ipykernel)",
   "language": "python",
   "name": "python3"
  },
  "language_info": {
   "codemirror_mode": {
    "name": "ipython",
    "version": 3
   },
   "file_extension": ".py",
   "mimetype": "text/x-python",
   "name": "python",
   "nbconvert_exporter": "python",
   "pygments_lexer": "ipython3",
   "version": "3.8.13"
  }
 },
 "nbformat": 4,
 "nbformat_minor": 5
}
