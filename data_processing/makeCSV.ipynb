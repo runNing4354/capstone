{
 "cells": [
  {
   "cell_type": "code",
   "execution_count": 1,
   "id": "6c21241b-dbb2-4801-ad80-11ceef0fc1d3",
   "metadata": {},
   "outputs": [],
   "source": [
    "import pandas as pd\n",
    "import os\n",
    "\n"
   ]
  },
  {
   "cell_type": "code",
   "execution_count": 2,
   "id": "9ab7ee7f-8515-4c13-ab2e-bd0bc2a02531",
   "metadata": {},
   "outputs": [],
   "source": []
  },
  {
   "cell_type": "code",
   "execution_count": 3,
   "id": "7fd4cd11-cbed-40c2-b5a1-a3117f9667f6",
   "metadata": {},
   "outputs": [],
   "source": [
    "#default\n",
    "\n",
    "metadata=[0,0,0,0,0,0,0,0,0]\n",
    "path = [0,0,0,0,0,0,0,0]\n",
    "\n",
    "metadata[0] = 'C:\\\\Users\\\\taemi\\\\capstone\\\\data\\\\1_default\\\\babycry.csv'\n",
    "metadata[1] = 'C:\\\\Users\\\\taemi\\\\capstone\\\\data\\\\1_default\\\\carhorn.csv'\n",
    "metadata[2] = 'C:\\\\Users\\\\taemi\\\\capstone\\\\data\\\\1_default\\\\dogbark.csv'\n",
    "metadata[3] = 'C:\\\\Users\\\\taemi\\\\capstone\\\\data\\\\1_default\\\\glass_break.csv'\n",
    "metadata[4] = 'C:\\\\Users\\\\taemi\\\\capstone\\\\data\\\\1_default\\\\knock.csv'\n",
    "metadata[5] = 'C:\\\\Users\\\\taemi\\\\capstone\\\\data\\\\1_default\\\\meow.csv'\n",
    "metadata[6] = 'C:\\\\Users\\\\taemi\\\\capstone\\\\data\\\\1_default\\\\scream.csv'\n",
    "metadata[7] = 'C:\\\\Users\\\\taemi\\\\capstone\\\\data\\\\1_default\\\\siren.csv'\n",
    "metadata[8] = 'C:\\\\Users\\\\taemi\\\\capstone\\\\data\\\\1_default\\\\metadata.csv'\n",
    "\n",
    "path[0] = ('C:\\\\Users\\\\taemi\\\\capstone\\\\data\\\\1_default\\\\baby_cry')\n",
    "path[1] = ('C:\\\\Users\\\\taemi\\\\capstone\\\\data\\\\1_default\\\\car_horn')\n",
    "path[2] = ('C:\\\\Users\\\\taemi\\\\capstone\\\\data\\\\1_default\\\\dog_bark')\n",
    "path[3] = ('C:\\\\Users\\\\taemi\\\\capstone\\\\data\\\\1_default\\\\glass_break')\n",
    "path[4] = ('C:\\\\Users\\\\taemi\\\\capstone\\\\data\\\\1_default\\\\knock')\n",
    "path[5] = ('C:\\\\Users\\\\taemi\\\\capstone\\\\data\\\\1_default\\\\meow')\n",
    "path[6] = ('C:\\\\Users\\\\taemi\\\\capstone\\\\data\\\\1_default\\\\scream')\n",
    "path[7] = ('C:\\\\Users\\\\taemi\\\\capstone\\\\data\\\\1_default\\\\siren_all')"
   ]
  },
  {
   "cell_type": "code",
   "execution_count": 60,
   "id": "89004da2-06ce-462f-bb1f-57dcbb0ad35e",
   "metadata": {},
   "outputs": [],
   "source": [
    "#siren\n",
    "\n",
    "metadata=[0,0,0,0,0]\n",
    "path = [0,0,0,0]\n",
    "\n",
    "metadata[0] = 'C:\\\\Users\\\\taemi\\\\capstone\\\\data\\\\2_siren\\\\burglarAlarm.csv'\n",
    "metadata[1] = 'C:\\\\Users\\\\taemi\\\\capstone\\\\data\\\\2_siren\\\\emergencyAlarm.csv'\n",
    "metadata[2] = 'C:\\\\Users\\\\taemi\\\\capstone\\\\data\\\\2_siren\\\\fireAlarm.csv'\n",
    "metadata[3] = 'C:\\\\Users\\\\taemi\\\\capstone\\\\data\\\\2_siren\\\\other.csv'\n",
    "metadata[4] = 'C:\\\\Users\\\\taemi\\\\capstone\\\\data\\\\2_siren\\\\metadata.csv'\n",
    "\n",
    "\n",
    "path[0] = ('C:\\\\Users\\\\taemi\\\\capstone\\\\data\\\\2_siren\\\\burglar_alarm')\n",
    "path[1] = ('C:\\\\Users\\\\taemi\\\\capstone\\\\data\\\\2_siren\\\\emergency_alarm')\n",
    "path[2] = ('C:\\\\Users\\\\taemi\\\\capstone\\\\data\\\\2_siren\\\\fire_alarm')\n",
    "path[3] = ('C:\\\\Users\\\\taemi\\\\capstone\\\\data\\\\2_siren\\\\other')\n"
   ]
  },
  {
   "cell_type": "code",
   "execution_count": 100,
   "id": "21aea207-37fe-463e-b019-7eceaca931d9",
   "metadata": {},
   "outputs": [],
   "source": [
    "#babycry\n",
    "\n",
    "metadata=[0,0,0]\n",
    "path = [0,0]\n",
    "\n",
    "metadata[0] = 'C:\\\\Users\\\\taemi\\\\capstone\\\\data\\\\3_babycry\\\\babycry.csv'\n",
    "metadata[1] = 'C:\\\\Users\\\\taemi\\\\capstone\\\\data\\\\3_babycry\\\\other.csv'\n",
    "metadata[2] = 'C:\\\\Users\\\\taemi\\\\capstone\\\\data\\\\3_babycry\\\\metadata_2.csv'\n",
    "\n",
    "\n",
    "\n",
    "path[0] = ('C:\\\\Users\\\\taemi\\\\capstone\\\\data\\\\3_babycry\\\\baby_cry')\n",
    "path[1] = ('C:\\\\Users\\\\taemi\\\\capstone\\\\data\\\\3_babycry\\\\other')"
   ]
  },
  {
   "cell_type": "code",
   "execution_count": null,
   "id": "e236cc85-6635-4531-8600-5042191275a4",
   "metadata": {},
   "outputs": [],
   "source": []
  },
  {
   "cell_type": "code",
   "execution_count": 106,
   "id": "2e647fb3-3d22-496a-9339-09a2cdcd5115",
   "metadata": {},
   "outputs": [],
   "source": [
    "filename = os.listdir(path[0])"
   ]
  },
  {
   "cell_type": "code",
   "execution_count": 107,
   "id": "5ba3ed77-2446-4edc-b4c5-20db4a84b9ca",
   "metadata": {},
   "outputs": [],
   "source": [
    "features = []"
   ]
  },
  {
   "cell_type": "code",
   "execution_count": 108,
   "id": "43e9e056-44a5-400c-88c0-122a7e7c0261",
   "metadata": {},
   "outputs": [],
   "source": [
    "for i in filename:\n",
    "    features.append([i, 'babycry'])"
   ]
  },
  {
   "cell_type": "code",
   "execution_count": 109,
   "id": "def5b028-6fbc-4df0-ac81-72c4d138fdaa",
   "metadata": {},
   "outputs": [
    {
     "data": {
      "text/html": [
       "<div>\n",
       "<style scoped>\n",
       "    .dataframe tbody tr th:only-of-type {\n",
       "        vertical-align: middle;\n",
       "    }\n",
       "\n",
       "    .dataframe tbody tr th {\n",
       "        vertical-align: top;\n",
       "    }\n",
       "\n",
       "    .dataframe thead th {\n",
       "        text-align: right;\n",
       "    }\n",
       "</style>\n",
       "<table border=\"1\" class=\"dataframe\">\n",
       "  <thead>\n",
       "    <tr style=\"text-align: right;\">\n",
       "      <th></th>\n",
       "      <th>filename</th>\n",
       "      <th>class</th>\n",
       "    </tr>\n",
       "  </thead>\n",
       "  <tbody>\n",
       "    <tr>\n",
       "      <th>0</th>\n",
       "      <td>aarzodpjyh.wav</td>\n",
       "      <td>babycry</td>\n",
       "    </tr>\n",
       "    <tr>\n",
       "      <th>1</th>\n",
       "      <td>acyuztda.wav</td>\n",
       "      <td>babycry</td>\n",
       "    </tr>\n",
       "    <tr>\n",
       "      <th>2</th>\n",
       "      <td>adfdfjdhrs.wav</td>\n",
       "      <td>babycry</td>\n",
       "    </tr>\n",
       "    <tr>\n",
       "      <th>3</th>\n",
       "      <td>aelye.wav</td>\n",
       "      <td>babycry</td>\n",
       "    </tr>\n",
       "    <tr>\n",
       "      <th>4</th>\n",
       "      <td>afbaykvqeg.wav</td>\n",
       "      <td>babycry</td>\n",
       "    </tr>\n",
       "    <tr>\n",
       "      <th>...</th>\n",
       "      <td>...</td>\n",
       "      <td>...</td>\n",
       "    </tr>\n",
       "    <tr>\n",
       "      <th>395</th>\n",
       "      <td>ztpgzfmn.wav</td>\n",
       "      <td>babycry</td>\n",
       "    </tr>\n",
       "    <tr>\n",
       "      <th>396</th>\n",
       "      <td>zttvm.wav</td>\n",
       "      <td>babycry</td>\n",
       "    </tr>\n",
       "    <tr>\n",
       "      <th>397</th>\n",
       "      <td>zwboddurfd.wav</td>\n",
       "      <td>babycry</td>\n",
       "    </tr>\n",
       "    <tr>\n",
       "      <th>398</th>\n",
       "      <td>zxurze.wav</td>\n",
       "      <td>babycry</td>\n",
       "    </tr>\n",
       "    <tr>\n",
       "      <th>399</th>\n",
       "      <td>zzvdl.wav</td>\n",
       "      <td>babycry</td>\n",
       "    </tr>\n",
       "  </tbody>\n",
       "</table>\n",
       "<p>400 rows × 2 columns</p>\n",
       "</div>"
      ],
      "text/plain": [
       "           filename    class\n",
       "0    aarzodpjyh.wav  babycry\n",
       "1      acyuztda.wav  babycry\n",
       "2    adfdfjdhrs.wav  babycry\n",
       "3         aelye.wav  babycry\n",
       "4    afbaykvqeg.wav  babycry\n",
       "..              ...      ...\n",
       "395    ztpgzfmn.wav  babycry\n",
       "396       zttvm.wav  babycry\n",
       "397  zwboddurfd.wav  babycry\n",
       "398      zxurze.wav  babycry\n",
       "399       zzvdl.wav  babycry\n",
       "\n",
       "[400 rows x 2 columns]"
      ]
     },
     "execution_count": 109,
     "metadata": {},
     "output_type": "execute_result"
    }
   ],
   "source": [
    "featuresdf = pd.DataFrame(features, columns=['filename','class'])\n",
    "featuresdf"
   ]
  },
  {
   "cell_type": "code",
   "execution_count": 111,
   "id": "73a57e9d-8ac0-470c-8e1b-3274082f4e48",
   "metadata": {},
   "outputs": [],
   "source": [
    "featuresdf.to_csv(metadata[2],index=False)"
   ]
  },
  {
   "cell_type": "code",
   "execution_count": null,
   "id": "013c35bd-25c2-4238-9480-9fa81b2bf9c7",
   "metadata": {},
   "outputs": [],
   "source": []
  },
  {
   "cell_type": "code",
   "execution_count": null,
   "id": "cd0289aa-b803-469d-b250-c19b7a0c8c3f",
   "metadata": {},
   "outputs": [],
   "source": []
  }
 ],
 "metadata": {
  "kernelspec": {
   "display_name": "Python 3 (ipykernel)",
   "language": "python",
   "name": "python3"
  },
  "language_info": {
   "codemirror_mode": {
    "name": "ipython",
    "version": 3
   },
   "file_extension": ".py",
   "mimetype": "text/x-python",
   "name": "python",
   "nbconvert_exporter": "python",
   "pygments_lexer": "ipython3",
   "version": "3.8.13"
  }
 },
 "nbformat": 4,
 "nbformat_minor": 5
}
